{
  "nbformat": 4,
  "nbformat_minor": 0,
  "metadata": {
    "colab": {
      "name": "Image preprocessing and Model building.ipynb",
      "provenance": [],
      "mount_file_id": "10QBYoxAxjI447Z1OX8XQstf4NiRzFFxi",
      "authorship_tag": "ABX9TyNJnRjUtmLHJG5abPq/VkRz",
      "include_colab_link": true
    },
    "kernelspec": {
      "name": "python3",
      "display_name": "Python 3"
    },
    "language_info": {
      "name": "python"
    }
  },
  "cells": [
    {
      "cell_type": "markdown",
      "metadata": {
        "id": "view-in-github",
        "colab_type": "text"
      },
      "source": [
        "<a href=\"https://colab.research.google.com/github/Hemantvg/Iceberg-Detection-in-Satellite-Images-using-IBM-Watson-Studio/blob/main/Image_preprocessing_and_Model_building.ipynb\" target=\"_parent\"><img src=\"https://colab.research.google.com/assets/colab-badge.svg\" alt=\"Open In Colab\"/></a>"
      ]
    },
    {
      "cell_type": "code",
      "metadata": {
        "id": "7KyfMcXv8nyy"
      },
      "source": [
        "from keras.preprocessing.image import ImageDataGenerator\n",
        "from keras.models import Sequential\n",
        "from keras.layers import Conv2D, MaxPooling2D, Dense, Dropout, Flatten\n",
        "from keras.layers import MaxPooling2D"
      ],
      "execution_count": 1,
      "outputs": []
    },
    {
      "cell_type": "code",
      "metadata": {
        "id": "TPt-Ssrv90YM"
      },
      "source": [
        "from keras.preprocessing.image import ImageDataGenerator\n",
        "train_datagen = ImageDataGenerator(rescale = 1./255,shear_range = 0.2,zoom_range = 0.2,horizontal_flip = True)\n",
        "test_datagen = ImageDataGenerator(rescale = 1./255)"
      ],
      "execution_count": 2,
      "outputs": []
    },
    {
      "cell_type": "code",
      "metadata": {
        "colab": {
          "base_uri": "https://localhost:8080/"
        },
        "id": "VBAEIbnu95Dz",
        "outputId": "13e36a11-3a00-4b76-87d1-f531f4dcd556"
      },
      "source": [
        "x_train = train_datagen.flow_from_directory(r\"/content/drive/MyDrive/Iceberg Detection/dataset/train\",target_size = (75, 75),batch_size = 32,class_mode = \"binary\")\n",
        "x_test = test_datagen.flow_from_directory(r\"/content/drive/MyDrive/Iceberg Detection/dataset/test\",target_size = (75, 75),batch_size = 32,class_mode = \"binary\")"
      ],
      "execution_count": 3,
      "outputs": [
        {
          "output_type": "stream",
          "text": [
            "Found 1284 images belonging to 2 classes.\n",
            "Found 320 images belonging to 2 classes.\n"
          ],
          "name": "stdout"
        }
      ]
    },
    {
      "cell_type": "code",
      "metadata": {
        "colab": {
          "base_uri": "https://localhost:8080/"
        },
        "id": "kbzmQWGi-Gvb",
        "outputId": "79872742-3abf-44fd-f0ce-ddf1b669e763"
      },
      "source": [
        "x_train.class_indices"
      ],
      "execution_count": 4,
      "outputs": [
        {
          "output_type": "execute_result",
          "data": {
            "text/plain": [
              "{'Iceberg': 0, 'Ship': 1}"
            ]
          },
          "metadata": {
            "tags": []
          },
          "execution_count": 4
        }
      ]
    },
    {
      "cell_type": "code",
      "metadata": {
        "id": "5mJt-4Pa-Kwk"
      },
      "source": [
        "model = Sequential()"
      ],
      "execution_count": 5,
      "outputs": []
    },
    {
      "cell_type": "code",
      "metadata": {
        "id": "Y2_COxEP-Nm9"
      },
      "source": [
        "model.add(Conv2D(64,(3, 3),activation=\"relu\", input_shape=(75,75,3)))"
      ],
      "execution_count": 6,
      "outputs": []
    },
    {
      "cell_type": "code",
      "metadata": {
        "id": "BHwXTuRw-Qta"
      },
      "source": [
        "model.add(MaxPooling2D(pool_size=(3, 3), strides=(2, 2)))"
      ],
      "execution_count": 7,
      "outputs": []
    },
    {
      "cell_type": "code",
      "metadata": {
        "id": "KFg1PbZs-TSm"
      },
      "source": [
        "model.add(Flatten())"
      ],
      "execution_count": 8,
      "outputs": []
    },
    {
      "cell_type": "code",
      "metadata": {
        "id": "FBUgOd1q-V6t"
      },
      "source": [
        "model.add(Dense(units=512, activation='relu'))"
      ],
      "execution_count": 9,
      "outputs": []
    },
    {
      "cell_type": "code",
      "metadata": {
        "id": "ChjMb4lsASx0"
      },
      "source": [
        "model.add(Dense(units=256, activation='relu'))"
      ],
      "execution_count": 10,
      "outputs": []
    },
    {
      "cell_type": "code",
      "metadata": {
        "id": "zb9uxmVeAXvy"
      },
      "source": [
        "model.add(Dense(units=1, activation='sigmoid'))"
      ],
      "execution_count": 11,
      "outputs": []
    },
    {
      "cell_type": "code",
      "metadata": {
        "id": "sGJ5JCgL-wHg"
      },
      "source": [
        "model.compile(loss=\"binary_crossentropy\",optimizer=\"adam\",metrics=[\"accuracy\"])"
      ],
      "execution_count": 12,
      "outputs": []
    },
    {
      "cell_type": "code",
      "metadata": {
        "colab": {
          "base_uri": "https://localhost:8080/"
        },
        "id": "evCgx1cp_IMK",
        "outputId": "9a2769ed-f017-4569-cde8-0850f70eb7e7"
      },
      "source": [
        "model.fit_generator(x_train,steps_per_epoch = 40,epochs = 0,validation_data = x_test,validation_steps = 10)"
      ],
      "execution_count": 13,
      "outputs": [
        {
          "output_type": "stream",
          "text": [
            "/usr/local/lib/python3.7/dist-packages/keras/engine/training.py:1915: UserWarning: `Model.fit_generator` is deprecated and will be removed in a future version. Please use `Model.fit`, which supports generators.\n",
            "  warnings.warn('`Model.fit_generator` is deprecated and '\n"
          ],
          "name": "stderr"
        },
        {
          "output_type": "execute_result",
          "data": {
            "text/plain": [
              "<keras.callbacks.History at 0x7fdf41d69950>"
            ]
          },
          "metadata": {
            "tags": []
          },
          "execution_count": 13
        }
      ]
    },
    {
      "cell_type": "code",
      "metadata": {
        "id": "OWqNlDs0_K-n"
      },
      "source": [
        "model.save(\"iceberg.h5\")"
      ],
      "execution_count": 14,
      "outputs": []
    }
  ]
}